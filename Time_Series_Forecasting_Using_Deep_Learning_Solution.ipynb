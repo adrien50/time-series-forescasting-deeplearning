{
  "nbformat": 4,
  "nbformat_minor": 0,
  "metadata": {
    "anaconda-cloud": {},
    "kernelspec": {
      "display_name": "Python [Root]",
      "language": "python",
      "name": "Python [Root]"
    },
    "language_info": {
      "codemirror_mode": {
        "name": "ipython",
        "version": 2
      },
      "file_extension": ".py",
      "mimetype": "text/x-python",
      "name": "python",
      "nbconvert_exporter": "python",
      "pygments_lexer": "ipython2",
      "version": "2.7.12"
    },
    "colab": {
      "name": "Time-Series-Forecasting-Using-Deep-Learning-Solution.ipynb",
      "provenance": [],
      "include_colab_link": true
    }
  },
  "cells": [
    {
      "cell_type": "markdown",
      "metadata": {
        "id": "view-in-github",
        "colab_type": "text"
      },
      "source": [
        "<a href=\"https://colab.research.google.com/github/adrien50/time-series-forescasting-deeplearning/blob/main/Time_Series_Forecasting_Using_Deep_Learning_Solution.ipynb\" target=\"_parent\"><img src=\"https://colab.research.google.com/assets/colab-badge.svg\" alt=\"Open In Colab\"/></a>"
      ]
    },
    {
      "cell_type": "markdown",
      "metadata": {
        "id": "DgiET23kIEMw"
      },
      "source": [
        "## Problem Description\n",
        "The problem we are going to look at in this post is theInternational Airline Passengers prediction problem.\n",
        "\n",
        "This is a problem where, given a year and a month, the task is to predict the number of international airline passengers in units of 1,000. The data ranges from January 1949 to December 1960, or 12 years, with 144 observations."
      ]
    },
    {
      "cell_type": "markdown",
      "metadata": {
        "id": "lVZQ_J68Ih4I"
      },
      "source": [
        "## Import Libraries"
      ]
    },
    {
      "cell_type": "code",
      "metadata": {
        "id": "SnnZr0qupaRd"
      },
      "source": [
        "import matplotlib.pyplot as plt\n",
        "import pandas\n",
        "import math\n",
        "from keras.models import Sequential\n",
        "from keras.layers import Dense\n",
        "from keras.layers import LSTM\n",
        "from sklearn.preprocessing import MinMaxScaler\n",
        "from sklearn.metrics import mean_squared_error"
      ],
      "execution_count": null,
      "outputs": []
    },
    {
      "cell_type": "markdown",
      "metadata": {
        "id": "6-q9M1CxI-Vb"
      },
      "source": [
        " ## Load and plot the whole dataset"
      ]
    },
    {
      "cell_type": "code",
      "metadata": {
        "id": "AhjycFOHpaRT",
        "outputId": "473555f0-6592-4e89-da21-1cabb37f79d4",
        "colab": {
          "base_uri": "https://localhost:8080/",
          "height": 265
        }
      },
      "source": [
        "import numpy\n",
        "import pandas\n",
        "import matplotlib.pyplot as plt\n",
        "%matplotlib inline\n",
        "dataset = pandas.read_csv('https://raw.githubusercontent.com/jbrownlee/Datasets/master/airline-passengers.csv',usecols=[1],engine='python',skipfooter=3)\n",
        "plt.plot(dataset)\n",
        "plt.show()"
      ],
      "execution_count": null,
      "outputs": [
        {
          "output_type": "display_data",
          "data": {
            "image/png": "[encoded data removed]",
            "text/plain": [
              "<Figure size 432x288 with 1 Axes>"
            ]
          },
          "metadata": {
            "tags": [],
            "needs_background": "light"
          }
        }
      ]
    },
    {
      "cell_type": "markdown",
      "metadata": {
        "id": "ZhXo8rF_JRKJ"
      },
      "source": [
        "You can see an upward trend in the dataset over time."
      ]
    },
    {
      "cell_type": "markdown",
      "metadata": {
        "id": "uTdAp0QHKBUI"
      },
      "source": [
        "## Long Short-Term Memory Network\n",
        "\n",
        "The Long Short-Term Memory network, or LSTM network, is a recurrent neural network that is trained using Backpropagation Through Time and overcomes the vanishing gradient problem.\n",
        "\n",
        "As such, it can be used to create large recurrent networks that in turn can be used to address difficult sequence problems in machine learning and achieve state-of-the-art results.\n",
        "\n",
        "Instead of neurons, LSTM networks have memory blocks that are connected through layers.\n",
        "\n",
        "A block has components that make it smarter than a classical neuron and a memory for recent sequences. A block contains gates that manage the block’s state and output. A block operates upon an input sequence and each gate within a block uses the sigmoid activation units to control whether they are triggered or not, making the change of state and addition of information flowing through the block conditional.\n",
        "\n",
        "There are three types of gates within a unit:\n",
        "\n",
        "* Forget Gate: conditionally decides what information to throw away from the block.\n",
        "\n",
        "* Input Gate: conditionally decides which values from the input to update the memory state.\n",
        "\n",
        "*Output Gate: conditionally decides what to output based on input and the memory of the block.\n",
        "\n",
        "Each unit is like a mini-state machine where the gates of the units have weights that are learned during the training procedure.\n",
        "\n",
        "You can see how you may achieve sophisticated learning and memory from a layer of LSTMs, and it is not hard to imagine how higher-order abstractions may be layered with multiple such layers.\n",
        "\n",
        "## LSTM Network for Regression\n",
        "\n",
        "We can phrase the problem as a regression problem.\n",
        "\n",
        "That is, given the number of passengers (in units of thousands) this month, what is the number of passengers next month?\n",
        "\n",
        "We can write a simple function to convert our single column of data into a two-column dataset: the first column containing this month’s (t) passenger count and the second column containing next month’s (t+1) passenger count, to be predicted.\n",
        "\n",
        "Before we get started, let’s first import all of the functions and classes we intend to use. This assumes a working SciPy environment with the Keras deep learning library installed."
      ]
    },
    {
      "cell_type": "code",
      "metadata": {
        "id": "u2to2gILpaR8"
      },
      "source": [
        "# for reproducability of the results let's fix the seed function\n",
        "numpy.random.seed(1234)"
      ],
      "execution_count": null,
      "outputs": []
    },
    {
      "cell_type": "code",
      "metadata": {
        "id": "uF7vl8hxpaSD",
        "outputId": "f36f0280-4924-4dc3-b7bc-a5c234de76a7",
        "colab": {
          "base_uri": "https://localhost:8080/",
          "height": 204
        }
      },
      "source": [
        "dataset.head()"
      ],
      "execution_count": null,
      "outputs": [
        {
          "output_type": "execute_result",
          "data": {
            "text/html": [
              "<div>\n",
              "<style scoped>\n",
              "    .dataframe tbody tr th:only-of-type {\n",
              "        vertical-align: middle;\n",
              "    }\n",
              "\n",
              "    .dataframe tbody tr th {\n",
              "        vertical-align: top;\n",
              "    }\n",
              "\n",
              "    .dataframe thead th {\n",
              "        text-align: right;\n",
              "    }\n",
              "</style>\n",
              "<table border=\"1\" class=\"dataframe\">\n",
              "  <thead>\n",
              "    <tr style=\"text-align: right;\">\n",
              "      <th></th>\n",
              "      <th>Passengers</th>\n",
              "    </tr>\n",
              "  </thead>\n",
              "  <tbody>\n",
              "    <tr>\n",
              "      <th>0</th>\n",
              "      <td>112</td>\n",
              "    </tr>\n",
              "    <tr>\n",
              "      <th>1</th>\n",
              "      <td>118</td>\n",
              "    </tr>\n",
              "    <tr>\n",
              "      <th>2</th>\n",
              "      <td>132</td>\n",
              "    </tr>\n",
              "    <tr>\n",
              "      <th>3</th>\n",
              "      <td>129</td>\n",
              "    </tr>\n",
              "    <tr>\n",
              "      <th>4</th>\n",
              "      <td>121</td>\n",
              "    </tr>\n",
              "  </tbody>\n",
              "</table>\n",
              "</div>"
            ],
            "text/plain": [
              "   Passengers\n",
              "0         112\n",
              "1         118\n",
              "2         132\n",
              "3         129\n",
              "4         121"
            ]
          },
          "metadata": {
            "tags": []
          },
          "execution_count": 40
        }
      ]
    },
    {
      "cell_type": "code",
      "metadata": {
        "id": "ZcMd9NMDpaSM"
      },
      "source": [
        "# convert the integer values to floating point values, which are more suitable for modeling with a neural network.\n",
        "dataset = dataset.values\n",
        "dataset = dataset.astype('float32')"
      ],
      "execution_count": null,
      "outputs": []
    },
    {
      "cell_type": "code",
      "metadata": {
        "id": "ljfccYaapaSS"
      },
      "source": [
        "# normaliza the dataset because LSTMs are sensitive to the scale of the input data\n",
        "scaler = MinMaxScaler(feature_range=(0,1))\n",
        "dataset = scaler.fit_transform(dataset)"
      ],
      "execution_count": null,
      "outputs": []
    },
    {
      "cell_type": "code",
      "metadata": {
        "id": "ULanqRszpaSZ",
        "outputId": "b5235d73-cf37-48f4-812e-c98d75eb6505",
        "colab": {
          "base_uri": "https://localhost:8080/",
          "height": 1000
        }
      },
      "source": [
        "dataset"
      ],
      "execution_count": null,
      "outputs": [
        {
          "output_type": "execute_result",
          "data": {
            "text/plain": [
              "array([[0.01544401],\n",
              "       [0.02702703],\n",
              "       [0.05405405],\n",
              "       [0.04826255],\n",
              "       [0.03281853],\n",
              "       [0.05984557],\n",
              "       [0.08494207],\n",
              "       [0.08494207],\n",
              "       [0.06177607],\n",
              "       [0.02895753],\n",
              "       [0.        ],\n",
              "       [0.02702703],\n",
              "       [0.02123553],\n",
              "       [0.04247104],\n",
              "       [0.07142857],\n",
              "       [0.05984557],\n",
              "       [0.04054055],\n",
              "       [0.08687258],\n",
              "       [0.12741312],\n",
              "       [0.12741312],\n",
              "       [0.10424709],\n",
              "       [0.05598456],\n",
              "       [0.01930502],\n",
              "       [0.06949806],\n",
              "       [0.07915059],\n",
              "       [0.08880308],\n",
              "       [0.14285713],\n",
              "       [0.11389962],\n",
              "       [0.13127413],\n",
              "       [0.14285713],\n",
              "       [0.18339768],\n",
              "       [0.18339768],\n",
              "       [0.15444016],\n",
              "       [0.11196911],\n",
              "       [0.08108109],\n",
              "       [0.1196911 ],\n",
              "       [0.12934363],\n",
              "       [0.14671814],\n",
              "       [0.17181468],\n",
              "       [0.14864865],\n",
              "       [0.15250966],\n",
              "       [0.22007722],\n",
              "       [0.24324325],\n",
              "       [0.26640925],\n",
              "       [0.2027027 ],\n",
              "       [0.16795367],\n",
              "       [0.13127413],\n",
              "       [0.17374519],\n",
              "       [0.17760617],\n",
              "       [0.17760617],\n",
              "       [0.25482625],\n",
              "       [0.25289574],\n",
              "       [0.24131274],\n",
              "       [0.26833975],\n",
              "       [0.3088803 ],\n",
              "       [0.32432434],\n",
              "       [0.25675675],\n",
              "       [0.20656371],\n",
              "       [0.14671814],\n",
              "       [0.18725869],\n",
              "       [0.19305018],\n",
              "       [0.16216215],\n",
              "       [0.25289574],\n",
              "       [0.23745173],\n",
              "       [0.25096524],\n",
              "       [0.3088803 ],\n",
              "       [0.38223937],\n",
              "       [0.36486486],\n",
              "       [0.2992278 ],\n",
              "       [0.24131274],\n",
              "       [0.1911197 ],\n",
              "       [0.24131274],\n",
              "       [0.26640925],\n",
              "       [0.24903473],\n",
              "       [0.31467178],\n",
              "       [0.3185328 ],\n",
              "       [0.32046333],\n",
              "       [0.4073359 ],\n",
              "       [0.5019305 ],\n",
              "       [0.46911195],\n",
              "       [0.40154442],\n",
              "       [0.32818535],\n",
              "       [0.25675675],\n",
              "       [0.3359073 ],\n",
              "       [0.34749034],\n",
              "       [0.33397684],\n",
              "       [0.41119692],\n",
              "       [0.4034749 ],\n",
              "       [0.4131274 ],\n",
              "       [0.52123547],\n",
              "       [0.5965251 ],\n",
              "       [0.58108103],\n",
              "       [0.484556  ],\n",
              "       [0.3899614 ],\n",
              "       [0.3223938 ],\n",
              "       [0.3899614 ],\n",
              "       [0.4073359 ],\n",
              "       [0.3803089 ],\n",
              "       [0.48648646],\n",
              "       [0.47104248],\n",
              "       [0.484556  ],\n",
              "       [0.6138996 ],\n",
              "       [0.6969112 ],\n",
              "       [0.70077217],\n",
              "       [0.57915056],\n",
              "       [0.46911195],\n",
              "       [0.38803086],\n",
              "       [0.44787642],\n",
              "       [0.45559844],\n",
              "       [0.4131274 ],\n",
              "       [0.4980695 ],\n",
              "       [0.47104248],\n",
              "       [0.49999997],\n",
              "       [0.6389961 ],\n",
              "       [0.7471043 ],\n",
              "       [0.7741313 ],\n",
              "       [0.57915056],\n",
              "       [0.492278  ],\n",
              "       [0.3976834 ],\n",
              "       [0.44980696],\n",
              "       [0.49420848],\n",
              "       [0.45945945],\n",
              "       [0.5830116 ],\n",
              "       [0.5637065 ],\n",
              "       [0.61003864],\n",
              "       [0.71042466],\n",
              "       [0.8571429 ],\n",
              "       [0.8783784 ],\n",
              "       [0.69305015],\n",
              "       [0.5849421 ],\n",
              "       [0.4980695 ],\n",
              "       [0.58108103],\n",
              "       [0.6042471 ],\n",
              "       [0.554054  ],\n",
              "       [0.60810804],\n",
              "       [0.6891892 ],\n",
              "       [0.71042466],\n",
              "       [0.8320464 ],\n",
              "       [1.        ],\n",
              "       [0.96911204],\n",
              "       [0.7799227 ]], dtype=float32)"
            ]
          },
          "metadata": {
            "tags": []
          },
          "execution_count": 43
        }
      ]
    },
    {
      "cell_type": "code",
      "metadata": {
        "id": "WD82qzn7paSn",
        "outputId": "4b2f3eb4-b8a1-4f19-805e-2cc1ed1cd00a",
        "colab": {
          "base_uri": "https://localhost:8080/",
          "height": 34
        }
      },
      "source": [
        "# After we model our data and estimate the skill of our model on the training dataset, we need to get an idea of the skill of the model on new unseen data.\n",
        "# split the dataset into train and test \n",
        "# split into train and test sets\n",
        "train_size = int(len(dataset) * 0.67) # 67% of the observations is use to train our model, leaving the remaining 33% for testing the model.\n",
        "test_size = len(dataset) - train_size\n",
        "train, test = dataset[0:train_size,:], dataset[train_size:len(dataset),:]\n",
        "print(len(train), len(test))"
      ],
      "execution_count": null,
      "outputs": [
        {
          "output_type": "stream",
          "text": [
            "94 47\n"
          ],
          "name": "stdout"
        }
      ]
    },
    {
      "cell_type": "markdown",
      "metadata": {
        "id": "UMau8MZ4NpDT"
      },
      "source": [
        "## Define a function to create a new dataset\n",
        "\n",
        "The function takes two arguments: the dataset, which is a NumPy array that we want to convert into a dataset, and the look_back, which is the number of previous time steps to use as input variables to predict the next time period — in this case defaulted to 1.\n",
        "\n",
        "This default will create a dataset where X is the number of passengers at a given time (t) and Y is the number of passengers at the next time (t + 1)."
      ]
    },
    {
      "cell_type": "code",
      "metadata": {
        "id": "B2jetkjGpaTU"
      },
      "source": [
        "# create dataset matrix\n",
        "def create_dataset(dataset, look_back=1):\n",
        "    dataX, dataY = [], []\n",
        "    for i in range(len(dataset)-look_back-1):\n",
        "        a = dataset[i:(i+look_back),0]\n",
        "        dataX.append(a)\n",
        "        dataY.append(dataset[i+look_back,0])\n",
        "    return numpy.array(dataX),numpy.array(dataY)"
      ],
      "execution_count": null,
      "outputs": []
    },
    {
      "cell_type": "markdown",
      "metadata": {
        "id": "pv5VR7OuPqZm"
      },
      "source": [
        "## prepare the train and test datasets for modeling."
      ]
    },
    {
      "cell_type": "code",
      "metadata": {
        "id": "CB7cmujypaTb"
      },
      "source": [
        "#reshape the dataset X =current time, and Yt+1 =future time period\n",
        "look_back =1\n",
        "trainX, trainY = create_dataset(train,look_back)\n",
        "testX, testY = create_dataset(test,look_back)"
      ],
      "execution_count": null,
      "outputs": []
    },
    {
      "cell_type": "code",
      "metadata": {
        "id": "yQ9XBvXtpaTi"
      },
      "source": [
        "## We can transform the prepared train and test input data into the expected structure using numpy.reshape() as follows\n",
        "trainX = numpy.reshape(trainX,(trainX.shape[0],1,trainX.shape[1]))\n",
        "testX = numpy.reshape(testX,(testX.shape[0],1,testX.shape[1]))"
      ],
      "execution_count": null,
      "outputs": []
    },
    {
      "cell_type": "code",
      "metadata": {
        "id": "xVkK3W68paTp",
        "outputId": "a9366022-6f7d-4b49-f852-8f82d0e101ae",
        "colab": {
          "base_uri": "https://localhost:8080/",
          "height": 1000
        }
      },
      "source": [
        "print(testX)"
      ],
      "execution_count": null,
      "outputs": [
        {
          "output_type": "stream",
          "text": [
            "[[[0.3223938 ]]\n",
            "\n",
            " [[0.3899614 ]]\n",
            "\n",
            " [[0.4073359 ]]\n",
            "\n",
            " [[0.3803089 ]]\n",
            "\n",
            " [[0.48648646]]\n",
            "\n",
            " [[0.47104248]]\n",
            "\n",
            " [[0.484556  ]]\n",
            "\n",
            " [[0.6138996 ]]\n",
            "\n",
            " [[0.6969112 ]]\n",
            "\n",
            " [[0.70077217]]\n",
            "\n",
            " [[0.57915056]]\n",
            "\n",
            " [[0.46911195]]\n",
            "\n",
            " [[0.38803086]]\n",
            "\n",
            " [[0.44787642]]\n",
            "\n",
            " [[0.45559844]]\n",
            "\n",
            " [[0.4131274 ]]\n",
            "\n",
            " [[0.4980695 ]]\n",
            "\n",
            " [[0.47104248]]\n",
            "\n",
            " [[0.49999997]]\n",
            "\n",
            " [[0.6389961 ]]\n",
            "\n",
            " [[0.7471043 ]]\n",
            "\n",
            " [[0.7741313 ]]\n",
            "\n",
            " [[0.57915056]]\n",
            "\n",
            " [[0.492278  ]]\n",
            "\n",
            " [[0.3976834 ]]\n",
            "\n",
            " [[0.44980696]]\n",
            "\n",
            " [[0.49420848]]\n",
            "\n",
            " [[0.45945945]]\n",
            "\n",
            " [[0.5830116 ]]\n",
            "\n",
            " [[0.5637065 ]]\n",
            "\n",
            " [[0.61003864]]\n",
            "\n",
            " [[0.71042466]]\n",
            "\n",
            " [[0.8571429 ]]\n",
            "\n",
            " [[0.8783784 ]]\n",
            "\n",
            " [[0.69305015]]\n",
            "\n",
            " [[0.5849421 ]]\n",
            "\n",
            " [[0.4980695 ]]\n",
            "\n",
            " [[0.58108103]]\n",
            "\n",
            " [[0.6042471 ]]\n",
            "\n",
            " [[0.554054  ]]\n",
            "\n",
            " [[0.60810804]]\n",
            "\n",
            " [[0.6891892 ]]\n",
            "\n",
            " [[0.71042466]]\n",
            "\n",
            " [[0.8320464 ]]\n",
            "\n",
            " [[1.        ]]]\n"
          ],
          "name": "stdout"
        }
      ]
    },
    {
      "cell_type": "markdown",
      "metadata": {
        "id": "ORv1exAJQzlv"
      },
      "source": [
        "## We are now ready to design and fit our LSTM network for this problem\n",
        "The network has a visible layer with 1 input, a hidden layer with 4 LSTM blocks or neurons, and an output layer that makes a single value prediction. The default sigmoid activation function is used for the LSTM blocks. The network is trained for 100 epochs and a batch size of 1 is used."
      ]
    },
    {
      "cell_type": "code",
      "metadata": {
        "id": "vH8KOvgHpaTv",
        "outputId": "20a3f210-9521-4e6f-bde1-71c1f9801734",
        "colab": {
          "base_uri": "https://localhost:8080/",
          "height": 51
        }
      },
      "source": [
        "# let's create  a RNN or LSTM model\n",
        "model = Sequential()\n",
        "model.add(LSTM(4,input_shape=(1,look_back)))\n",
        "model.add(Dense(1))\n",
        "model.compile(loss='mean_squared_error',optimizer='adam')\n",
        "\n",
        "# fit the model\n",
        "model.fit(trainX,trainY,batch_size=1,verbose=2)"
      ],
      "execution_count": null,
      "outputs": [
        {
          "output_type": "stream",
          "text": [
            "92/92 - 0s - loss: 0.0398\n"
          ],
          "name": "stdout"
        },
        {
          "output_type": "execute_result",
          "data": {
            "text/plain": [
              "<tensorflow.python.keras.callbacks.History at 0x7fdaf2414828>"
            ]
          },
          "metadata": {
            "tags": []
          },
          "execution_count": 49
        }
      ]
    },
    {
      "cell_type": "markdown",
      "metadata": {
        "id": "W1vxp1enRysy"
      },
      "source": [
        "Once the model is fit, we can estimate the performance of the model on the train and test datasets. This will give us a point of comparison for new models."
      ]
    },
    {
      "cell_type": "code",
      "metadata": {
        "id": "hO4_BnyopaT1"
      },
      "source": [
        "# make predictions\n",
        "trainPredict = model.predict(trainX)\n",
        "testPredict = model.predict(testX)"
      ],
      "execution_count": null,
      "outputs": []
    },
    {
      "cell_type": "code",
      "metadata": {
        "id": "zU2-ozgCpaT7",
        "outputId": "ca34bf0a-be33-46c0-84d8-7d3079e45ae3",
        "colab": {
          "base_uri": "https://localhost:8080/",
          "height": 1000
        }
      },
      "source": [
        "print(trainPredict)"
      ],
      "execution_count": null,
      "outputs": [
        {
          "output_type": "stream",
          "text": [
            "[[0.08938377]\n",
            " [0.09027235]\n",
            " [0.09235495]\n",
            " [0.09190762]\n",
            " [0.09071755]\n",
            " [0.09280284]\n",
            " [0.09474999]\n",
            " [0.09474999]\n",
            " [0.09295227]\n",
            " [0.09042069]\n",
            " [0.08820282]\n",
            " [0.09027235]\n",
            " [0.08982775]\n",
            " [0.09146087]\n",
            " [0.09370027]\n",
            " [0.09280284]\n",
            " [0.09131207]\n",
            " [0.09490018]\n",
            " [0.09806695]\n",
            " [0.09806695]\n",
            " [0.09625444]\n",
            " [0.09250419]\n",
            " [0.08967969]\n",
            " [0.09355055]\n",
            " [0.09429976]\n",
            " [0.09505042]\n",
            " [0.09927939]\n",
            " [0.09700873]\n",
            " [0.09836975]\n",
            " [0.09927939]\n",
            " [0.10247637]\n",
            " [0.10247637]\n",
            " [0.10019076]\n",
            " [0.09685776]\n",
            " [0.09444977]\n",
            " [0.09746194]\n",
            " [0.09821833]\n",
            " [0.09958299]\n",
            " [0.10156094]\n",
            " [0.09973486]\n",
            " [0.10003874]\n",
            " [0.10538494]\n",
            " [0.10722882]\n",
            " [0.10907742]\n",
            " [0.10400543]\n",
            " [0.10125613]\n",
            " [0.09836975]\n",
            " [0.1017134 ]\n",
            " [0.10201845]\n",
            " [0.10201845]\n",
            " [0.10815257]\n",
            " [0.10799854]\n",
            " [0.10707498]\n",
            " [0.10923167]\n",
            " [0.11247711]\n",
            " [0.11371626]\n",
            " [0.10830663]\n",
            " [0.10431172]\n",
            " [0.09958299]\n",
            " [0.10278185]\n",
            " [0.1032404 ]\n",
            " [0.10079927]\n",
            " [0.10799854]\n",
            " [0.10676739]\n",
            " [0.10784452]\n",
            " [0.11247711]\n",
            " [0.1183736 ]\n",
            " [0.11697492]\n",
            " [0.11170337]\n",
            " [0.10707498]\n",
            " [0.10308751]\n",
            " [0.10707498]\n",
            " [0.10907742]\n",
            " [0.10769054]\n",
            " [0.11294162]\n",
            " [0.11325142]\n",
            " [0.11340634]\n",
            " [0.12039562]\n",
            " [0.1280251 ]\n",
            " [0.12537777]\n",
            " [0.11992885]\n",
            " [0.11402626]\n",
            " [0.10830663]\n",
            " [0.11464649]\n",
            " [0.11557741]\n",
            " [0.1144914 ]\n",
            " [0.12070684]\n",
            " [0.12008443]\n",
            " [0.12086245]\n",
            " [0.12958181]\n",
            " [0.13564411]\n",
            " [0.13440213]]\n"
          ],
          "name": "stdout"
        }
      ]
    },
    {
      "cell_type": "code",
      "metadata": {
        "id": "CaO9M74jpaUC",
        "outputId": "66fea89a-d0ff-45b2-9e4b-b7879de0a546",
        "colab": {
          "base_uri": "https://localhost:8080/",
          "height": 782
        }
      },
      "source": [
        "print(testPredict)"
      ],
      "execution_count": null,
      "outputs": [
        {
          "output_type": "stream",
          "text": [
            "[[0.11356129]\n",
            " [0.11899558]\n",
            " [0.12039562]\n",
            " [0.11821814]\n",
            " [0.12677939]\n",
            " [0.12553352]\n",
            " [0.12662365]\n",
            " [0.13704003]\n",
            " [0.14368585]\n",
            " [0.14399381]\n",
            " [0.13424681]\n",
            " [0.12537777]\n",
            " [0.11884007]\n",
            " [0.12366472]\n",
            " [0.12428764]\n",
            " [0.12086245]\n",
            " [0.12771368]\n",
            " [0.12553352]\n",
            " [0.12786938]\n",
            " [0.1390537 ]\n",
            " [0.14768003]\n",
            " [0.14982152]\n",
            " [0.13424681]\n",
            " [0.12724654]\n",
            " [0.11961772]\n",
            " [0.12382045]\n",
            " [0.12740226]\n",
            " [0.1245991 ]\n",
            " [0.13455746]\n",
            " [0.1330038 ]\n",
            " [0.13672997]\n",
            " [0.14476323]\n",
            " [0.1563519 ]\n",
            " [0.15800977]\n",
            " [0.14337775]\n",
            " [0.13471273]\n",
            " [0.12771368]\n",
            " [0.13440213]\n",
            " [0.13626468]\n",
            " [0.13222653]\n",
            " [0.13657488]\n",
            " [0.14306957]\n",
            " [0.14476323]\n",
            " [0.15438566]\n",
            " [0.16738904]]\n"
          ],
          "name": "stdout"
        }
      ]
    },
    {
      "cell_type": "code",
      "metadata": {
        "id": "mS0bFZaPpaUJ"
      },
      "source": [
        "# reverse the predicted values to the actual time series values using inverse tranform function to ensure that performance is reported in the same units as the original data\n",
        "trainPredict = scaler.inverse_transform(trainPredict) \n",
        "testPredict = scaler.inverse_transform(testPredict)\n",
        "\n",
        "trainY = scaler.inverse_transform([trainY])\n",
        "testY = scaler.inverse_transform([testY])"
      ],
      "execution_count": null,
      "outputs": []
    },
    {
      "cell_type": "code",
      "metadata": {
        "id": "yGeZv_p6paUS",
        "outputId": "739d7bf5-7c6f-4fbc-bdb6-5f0166f06998",
        "colab": {
          "base_uri": "https://localhost:8080/",
          "height": 1000
        }
      },
      "source": [
        "print(trainPredict, trainY)"
      ],
      "execution_count": null,
      "outputs": [
        {
          "output_type": "stream",
          "text": [
            "[[150.30078]\n",
            " [150.76108]\n",
            " [151.83986]\n",
            " [151.60815]\n",
            " [150.9917 ]\n",
            " [152.07188]\n",
            " [153.08049]\n",
            " [153.08049]\n",
            " [152.14928]\n",
            " [150.83792]\n",
            " [149.68906]\n",
            " [150.76108]\n",
            " [150.53078]\n",
            " [151.37672]\n",
            " [152.53673]\n",
            " [152.07188]\n",
            " [151.29965]\n",
            " [153.15828]\n",
            " [154.79869]\n",
            " [154.79869]\n",
            " [153.8598 ]\n",
            " [151.91716]\n",
            " [150.45409]\n",
            " [152.45918]\n",
            " [152.84727]\n",
            " [153.23611]\n",
            " [155.42671]\n",
            " [154.25052]\n",
            " [154.95554]\n",
            " [155.42671]\n",
            " [157.08275]\n",
            " [157.08275]\n",
            " [155.89882]\n",
            " [154.17232]\n",
            " [152.92499]\n",
            " [154.48529]\n",
            " [154.87709]\n",
            " [155.584  ]\n",
            " [156.60855]\n",
            " [155.66266]\n",
            " [155.82007]\n",
            " [158.5894 ]\n",
            " [159.54453]\n",
            " [160.5021 ]\n",
            " [157.87482]\n",
            " [156.45068]\n",
            " [154.95554]\n",
            " [156.68753]\n",
            " [156.84555]\n",
            " [156.84555]\n",
            " [160.02303]\n",
            " [159.94324]\n",
            " [159.46484]\n",
            " [160.58202]\n",
            " [162.26314]\n",
            " [162.90503]\n",
            " [160.10283]\n",
            " [158.03348]\n",
            " [155.584  ]\n",
            " [157.24101]\n",
            " [157.47853]\n",
            " [156.21402]\n",
            " [159.94324]\n",
            " [159.30551]\n",
            " [159.86345]\n",
            " [162.26314]\n",
            " [165.31752]\n",
            " [164.593  ]\n",
            " [161.86235]\n",
            " [159.46484]\n",
            " [157.39934]\n",
            " [159.46484]\n",
            " [160.5021 ]\n",
            " [159.7837 ]\n",
            " [162.50375]\n",
            " [162.66423]\n",
            " [162.74448]\n",
            " [166.36494]\n",
            " [170.317  ]\n",
            " [168.9457 ]\n",
            " [166.12315]\n",
            " [163.06561]\n",
            " [160.10283]\n",
            " [163.38689]\n",
            " [163.8691 ]\n",
            " [163.30655]\n",
            " [166.52614]\n",
            " [166.20374]\n",
            " [166.60675]\n",
            " [171.12338]\n",
            " [174.26364]\n",
            " [173.6203 ]] [[117.99999916 131.99999879 129.00000163 120.99999632 135.00000368\n",
            "  147.99999397 147.99999397 136.00000531 119.00000078 103.99999952\n",
            "  117.99999916 115.00000199 125.99999674 140.99999801 135.00000368\n",
            "  125.00000283 148.9999956  169.99999891 169.99999891 157.99999481\n",
            "  133.00000042 114.00000036 139.99999638 145.00000452 149.99999723\n",
            "  177.9999965  163.00000295 172.00000217 177.9999965  198.99999982\n",
            "  198.99999982 184.00000627 162.00000133 146.00000615 165.9999924\n",
            "  171.00000054 179.99999976 193.00000549 181.00000139 183.00000464\n",
            "  217.99999988 230.00000398 241.99999264 209.00000066 191.00000223\n",
            "  172.00000217 194.00000712 195.99999493 195.99999493 235.99999831\n",
            "  234.99999668 229.00000235 242.99999427 263.99999759 272.00001061\n",
            "  236.99999994 211.00000392 179.99999976 201.00000308 203.99999252\n",
            "  187.99999735 234.99999668 226.9999991  233.99999506 263.99999759\n",
            "  301.99999771 292.99999849 259.00000488 229.00000235 203.00000633\n",
            "  229.00000235 241.99999264 232.99999343 266.99998703 268.99999029\n",
            "  270.00000736 315.00000344 363.99999059 346.99999379 312.00001399\n",
            "  274.00001387 236.99999994 277.99998951 283.99999928 277.00000332\n",
            "  317.00000669 313.00000018 317.99999288 373.999976   412.99999319\n",
            "  404.99998016 355.00000681]]\n"
          ],
          "name": "stdout"
        }
      ]
    },
    {
      "cell_type": "code",
      "metadata": {
        "id": "O06dieYWpaUb",
        "outputId": "a99e22c3-ac4f-44ec-f324-0c2a7bf2bb1f",
        "colab": {
          "base_uri": "https://localhost:8080/",
          "height": 918
        }
      },
      "source": [
        "print(testPredict, testY)"
      ],
      "execution_count": null,
      "outputs": [
        {
          "output_type": "stream",
          "text": [
            "[[162.82475]\n",
            " [165.63971]\n",
            " [166.36494]\n",
            " [165.237  ]\n",
            " [169.67174]\n",
            " [169.02637]\n",
            " [169.59105]\n",
            " [174.98674]\n",
            " [178.42928]\n",
            " [178.5888 ]\n",
            " [173.53984]\n",
            " [168.9457 ]\n",
            " [165.55916]\n",
            " [168.05832]\n",
            " [168.381  ]\n",
            " [166.60675]\n",
            " [170.15569]\n",
            " [169.02637]\n",
            " [170.23634]\n",
            " [176.02982]\n",
            " [180.49825]\n",
            " [181.60754]\n",
            " [173.53984]\n",
            " [169.9137 ]\n",
            " [165.96199]\n",
            " [168.13899]\n",
            " [169.99438]\n",
            " [168.54233]\n",
            " [173.70076]\n",
            " [172.89597]\n",
            " [174.82613]\n",
            " [178.98735]\n",
            " [184.99028]\n",
            " [185.84906]\n",
            " [178.26967]\n",
            " [173.78119]\n",
            " [170.15569]\n",
            " [173.6203 ]\n",
            " [174.58511]\n",
            " [172.49335]\n",
            " [174.74579]\n",
            " [178.11003]\n",
            " [178.98735]\n",
            " [183.97177]\n",
            " [190.70752]] [[306.00000422 315.00000344 301.00001152 355.999993   348.00001085\n",
            "  355.00000681 421.9999924  465.0000161  466.99998848 403.99999397\n",
            "  346.99999379 304.99998716 335.99999132 339.99999783 317.99999288\n",
            "  362.00000277 348.00001085 362.99998896 434.99999813 491.00002756\n",
            "  505.00001948 403.99999397 359.00001333 310.00001073 337.00000838\n",
            "  359.99999952 342.00000109 406.0000281  395.99998094 420.00002002\n",
            "  471.99998119 548.00004318 559.00001477 462.99998197 407.00001429\n",
            "  362.00000277 404.99998016 416.9999997  390.99998824 418.99997208\n",
            "  461.00000959 471.99998119 535.00003745 622.00000929 606.00004499]]\n"
          ],
          "name": "stdout"
        }
      ]
    },
    {
      "cell_type": "code",
      "metadata": {
        "id": "TyPGM2pkpaUh",
        "outputId": "8588de4f-87ad-4cb1-9e13-8d59554743c2",
        "colab": {
          "base_uri": "https://localhost:8080/",
          "height": 34
        }
      },
      "source": [
        "# calculate the RMSE root mean square error\n",
        "trainScore = math.sqrt(mean_squared_error(trainY[0],trainPredict[:,0]))\n",
        "print ('Train Score: %.2f RMSE' % (trainScore))"
      ],
      "execution_count": null,
      "outputs": [
        {
          "output_type": "stream",
          "text": [
            "Train Score: 85.03 RMSE\n"
          ],
          "name": "stdout"
        }
      ]
    },
    {
      "cell_type": "code",
      "metadata": {
        "id": "ktRzE1C-paUo",
        "outputId": "7d44f699-f41b-4c78-8036-bf5db6304e58",
        "colab": {
          "base_uri": "https://localhost:8080/",
          "height": 34
        }
      },
      "source": [
        "testScore = math.sqrt(mean_squared_error(testY[0],testPredict[:,0]))\n",
        "print ('Test Score: %.2f RMSE' % (testScore))"
      ],
      "execution_count": null,
      "outputs": [
        {
          "output_type": "stream",
          "text": [
            "Test Score: 246.47 RMSE\n"
          ],
          "name": "stdout"
        }
      ]
    },
    {
      "cell_type": "code",
      "metadata": {
        "id": "4YH73XDnpaUu",
        "outputId": "1c86cf46-2b61-4c4c-febd-0ef72acdf8d5",
        "colab": {
          "base_uri": "https://localhost:8080/",
          "height": 316
        }
      },
      "source": [
        "# LSTM for international airline passengers problem with window regression framing\n",
        "import numpy\n",
        "import matplotlib.pyplot as plt\n",
        "from pandas import read_csv\n",
        "import math\n",
        "from keras.models import Sequential\n",
        "from keras.layers import Dense\n",
        "from keras.layers import LSTM\n",
        "from sklearn.preprocessing import MinMaxScaler\n",
        "from sklearn.metrics import mean_squared_error\n",
        "# convert an array of values into a dataset matrix\n",
        "def create_dataset(dataset, look_back=1):\n",
        "\tdataX, dataY = [], []\n",
        "\tfor i in range(len(dataset)-look_back-1):\n",
        "\t\ta = dataset[i:(i+look_back), 0]\n",
        "\t\tdataX.append(a)\n",
        "\t\tdataY.append(dataset[i + look_back, 0])\n",
        "\treturn numpy.array(dataX), numpy.array(dataY)\n",
        "# fix random seed for reproducibility\n",
        "numpy.random.seed(7)\n",
        "# load the dataset\n",
        "dataframe = read_csv('https://raw.githubusercontent.com/jbrownlee/Datasets/master/airline-passengers.csv', usecols=[1], engine='python', skipfooter=3)\n",
        "dataset = dataframe.values\n",
        "dataset = dataset.astype('float32')\n",
        "# normalize the dataset\n",
        "scaler = MinMaxScaler(feature_range=(0, 1))\n",
        "dataset = scaler.fit_transform(dataset)\n",
        "# split into train and test sets\n",
        "train_size = int(len(dataset) * 0.67)\n",
        "test_size = len(dataset) - train_size\n",
        "train, test = dataset[0:train_size,:], dataset[train_size:len(dataset),:]\n",
        "# reshape into X=t and Y=t+1\n",
        "look_back = 3\n",
        "trainX, trainY = create_dataset(train, look_back)\n",
        "testX, testY = create_dataset(test, look_back)\n",
        "# reshape input to be [samples, time steps, features]\n",
        "trainX = numpy.reshape(trainX, (trainX.shape[0], 1, trainX.shape[1]))\n",
        "testX = numpy.reshape(testX, (testX.shape[0], 1, testX.shape[1]))\n",
        "# create and fit the LSTM network\n",
        "model = Sequential()\n",
        "model.add(LSTM(4, input_shape=(1, look_back)))\n",
        "model.add(Dense(1))\n",
        "model.compile(loss='mean_squared_error', optimizer='adam')\n",
        "model.fit(trainX, trainY, batch_size=1, verbose=2)\n",
        "# make predictions\n",
        "trainPredict = model.predict(trainX)\n",
        "testPredict = model.predict(testX)\n",
        "# invert predictions\n",
        "trainPredict = scaler.inverse_transform(trainPredict)\n",
        "trainY = scaler.inverse_transform([trainY])\n",
        "testPredict = scaler.inverse_transform(testPredict)\n",
        "testY = scaler.inverse_transform([testY])\n",
        "# calculate root mean squared error\n",
        "trainScore = math.sqrt(mean_squared_error(trainY[0], trainPredict[:,0]))\n",
        "print('Train Score: %.2f RMSE' % (trainScore))\n",
        "testScore = math.sqrt(mean_squared_error(testY[0], testPredict[:,0]))\n",
        "print('Test Score: %.2f RMSE' % (testScore))\n",
        "# shift train predictions for plotting\n",
        "trainPredictPlot = numpy.empty_like(dataset)\n",
        "trainPredictPlot[:, :] = numpy.nan\n",
        "trainPredictPlot[look_back:len(trainPredict)+look_back, :] = trainPredict\n",
        "# shift test predictions for plotting\n",
        "testPredictPlot = numpy.empty_like(dataset)\n",
        "testPredictPlot[:, :] = numpy.nan\n",
        "testPredictPlot[len(trainPredict)+(look_back*2)+1:len(dataset)-1, :] = testPredict\n",
        "# plot baseline and predictions\n",
        "plt.plot(scaler.inverse_transform(dataset))\n",
        "plt.plot(trainPredictPlot)\n",
        "plt.plot(testPredictPlot)\n",
        "plt.show()"
      ],
      "execution_count": null,
      "outputs": [
        {
          "output_type": "stream",
          "text": [
            "90/90 - 0s - loss: 0.0324\n",
            "Train Score: 67.22 RMSE\n",
            "Test Score: 197.19 RMSE\n"
          ],
          "name": "stdout"
        },
        {
          "output_type": "display_data",
          "data": {
            "image/png": "[encoded data removed]",
            "text/plain": [
              "<Figure size 432x288 with 1 Axes>"
            ]
          },
          "metadata": {
            "tags": [],
            "needs_background": "light"
          }
        }
      ]
    },
    {
      "cell_type": "code",
      "metadata": {
        "id": "4HYCxi3FpaU2"
      },
      "source": [
        ""
      ],
      "execution_count": null,
      "outputs": []
    }
  ]
}